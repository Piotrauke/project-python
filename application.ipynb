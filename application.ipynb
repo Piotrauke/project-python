{
 "cells": [
  {
   "cell_type": "code",
   "execution_count": 92,
   "id": "e3eb25bc",
   "metadata": {},
   "outputs": [],
   "source": [
    "###apicilient\n",
    "\n",
    "import requests\n",
    "import time\n",
    "import sys\n",
    "import threading\n",
    "\n",
    "def get_new_data(patient_id):\n",
    "    res = requests.get(f\"http://tesla.iem.pw.edu.pl:9080/v2/monitor/{patient_id}\")\n",
    "    js = res.json()\n",
    "    \n",
    "    return {\n",
    "        \"timestamp\":js[\"trace\"][\"id\"],\n",
    "        \"values\": [x[\"value\"] for x in js[\"trace\"][\"sensors\"]],\n",
    "        \"anomalies\":[x[\"anomaly\"] for x in js[\"trace\"][\"sensors\"]]\n",
    "        }\n",
    " "
   ]
  },
  {
   "cell_type": "code",
   "execution_count": 93,
   "id": "4c68a7fd",
   "metadata": {
    "scrolled": true
   },
   "outputs": [
    {
     "name": "stdout",
     "output_type": "stream",
     "text": [
      "Stopping on request\n",
      "Finished\n"
     ]
    }
   ],
   "source": [
    "###app\n",
    "\n",
    "stop_collector = False\n",
    "class DataCollectorThread(threading.Thread):\n",
    "    def run(self):\n",
    "        store = get_storage()\n",
    "        for i in range(200):\n",
    "            add_measurements(\"2\", get_new_data(\"2\"))\n",
    "            expire_data(5) \n",
    "            time.sleep(1)\n",
    "            \n",
    "            if stop_collector:\n",
    "                print(\"Stopping on request\")\n",
    "                break\n",
    "\n",
    "if __name__ == \"__main__\":\n",
    "   # print(get_new_data(\"2\"))\n",
    "   # sys.exit(0)\n",
    "\n",
    "\n",
    "    init_storage()\n",
    "    \n",
    "    collector = DataCollectorThread()\n",
    "    collector.start()\n",
    "    #print(\"Waiting...\")\n",
    "    #time.sleep(7)\n",
    "    \n",
    "    stop_collector = True\n",
    "    collector.join()\n",
    "    print(\"Finished\") \n"
   ]
  },
  {
   "cell_type": "code",
   "execution_count": 94,
   "id": "fa995b71",
   "metadata": {},
   "outputs": [],
   "source": [
    "### storage\n",
    "\n",
    "def init_storage():\n",
    "    global _storage\n",
    "    _storage = {}\n",
    "    return _storage\n",
    "\n",
    "def get_storage():\n",
    "    global _storage\n",
    "    return _storage\n",
    "    \n",
    "\n",
    "def add_measurements(patient_id, data):\n",
    "    st = get_storage()\n",
    "    if patient_id not in st:\n",
    "        pd = {\n",
    "            \"patient_id\": patient_id,\n",
    "            \"timestamps\": [],\n",
    "            \"values\": [],\n",
    "            \"anomalies\": [],\n",
    "            \"_expires_ts\":[]\n",
    "        }\n",
    "    else:\n",
    "        pd = st[patient_id]\n",
    "        \n",
    "    pd[\"timestamps\"].append(data[\"timestamp\"])  \n",
    "    pd[\"values\"].append(data[\"values\"])  \n",
    "    pd[\"anomalies\"].append(data[\"anomalies\"])  \n",
    "    pd[\"_expires_ts\"].append(time.time())  \n",
    "        \n",
    "\n",
    "def expire_data(secs):\n",
    "    st = get_storage()\n",
    "    for pid, pd in st.items():\n",
    "        ts = time.time()\n",
    "        while len(pd[\"_expire_ts\"]) > 0 and pd[\"_expire_ts\"][0] < (ts-secs):\n",
    "            pd[\"timestamps\"].pop(0)\n",
    "            pd[\"values\"].pop(0)\n",
    "            pd[\"anomalies\"].pop(0)  \n",
    "            pd[\"_expires_ts\"].pop(0)"
   ]
  },
  {
   "cell_type": "code",
   "execution_count": 95,
   "id": "daeb8c8f",
   "metadata": {},
   "outputs": [],
   "source": [
    "### dash.App\n",
    "\n"
   ]
  },
  {
   "cell_type": "code",
   "execution_count": null,
   "id": "01df1277",
   "metadata": {},
   "outputs": [],
   "source": []
  },
  {
   "cell_type": "code",
   "execution_count": null,
   "id": "53aea016",
   "metadata": {},
   "outputs": [],
   "source": []
  }
 ],
 "metadata": {
  "kernelspec": {
   "display_name": "Python 3",
   "language": "python",
   "name": "python3"
  },
  "language_info": {
   "codemirror_mode": {
    "name": "ipython",
    "version": 3
   },
   "file_extension": ".py",
   "mimetype": "text/x-python",
   "name": "python",
   "nbconvert_exporter": "python",
   "pygments_lexer": "ipython3",
   "version": "3.6.9"
  }
 },
 "nbformat": 4,
 "nbformat_minor": 5
}
