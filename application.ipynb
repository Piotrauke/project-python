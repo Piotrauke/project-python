{
 "cells": [
  {
   "cell_type": "code",
   "execution_count": 16,
   "id": "6f4efc4b",
   "metadata": {},
   "outputs": [],
   "source": [
    "###apicilient\n",
    "\n",
    "import requests\n",
    "import time\n",
    "import sys\n",
    "import threading\n",
    "import json\n",
    "\n",
    "\n",
    "def get_new_data(patient_id):\n",
    "    res = requests.get(f\"http://tesla.iem.pw.edu.pl:9080/v2/monitor/{patient_id}\")\n",
    "    js = res.json()\n",
    "    \n",
    "    return {\n",
    "        \"timestamp\":js[\"trace\"][\"id\"],\n",
    "        \"values\": [x[\"value\"] for x in js[\"trace\"][\"sensors\"]],\n",
    "        \"anomalies\":[x[\"anomaly\"] for x in js[\"trace\"][\"sensors\"]]\n",
    "        }"
   ]
  },
  {
   "cell_type": "code",
   "execution_count": 17,
   "id": "8742715b",
   "metadata": {
    "scrolled": true
   },
   "outputs": [
    {
     "name": "stdout",
     "output_type": "stream",
     "text": [
      "Stopping on request\n",
      "Finished\n"
     ]
    }
   ],
   "source": [
    "###app\n",
    "\n",
    "stop_collector = False\n",
    "class DataCollectorThread(threading.Thread):\n",
    "    def run(self):\n",
    "        store = get_storage()\n",
    "       # for i in range(10):\n",
    "        while True:\n",
    "            add_measurements(\"2\", get_new_data(\"2\"))\n",
    "            expire_data(5) \n",
    "            time.sleep(1)\n",
    "            \n",
    "            if stop_collector:\n",
    "                print(\"Stopping on request\")\n",
    "                break\n",
    "\n",
    "if __name__ == \"__main__\":\n",
    "   # print(get_new_data(\"2\"))\n",
    "   # sys.exit(0)\n",
    "\n",
    "\n",
    "    init_storage()\n",
    "    #create_layout()\n",
    "    \n",
    "    collector = DataCollectorThread()\n",
    "    collector.start()\n",
    "    #print(\"Waiting...\")\n",
    "    #time.sleep(7)\n",
    "    \n",
    "    stop_collector = True\n",
    "    collector.join()\n",
    "    print(\"Finished\") \n"
   ]
  },
  {
   "cell_type": "code",
   "execution_count": 13,
   "id": "54dc3615",
   "metadata": {},
   "outputs": [],
   "source": [
    "### storage\n",
    "\n",
    "def init_storage():\n",
    "    global _storage\n",
    "    _storage = {}\n",
    "    return _storage\n",
    "\n",
    "def get_storage():\n",
    "    global _storage\n",
    "    return _storage\n",
    "    \n",
    "\n",
    "def add_measurements(patient_id, data):\n",
    "    st = get_storage()\n",
    "    if patient_id not in st:\n",
    "        pd = {\n",
    "            \"patient_id\": patient_id,\n",
    "            \"timestamps\": [],\n",
    "            \"values\": [],\n",
    "            \"anomalies\": [],\n",
    "            \"_expires_ts\":[]\n",
    "        }\n",
    "    else:\n",
    "        pd = st[patient_id]\n",
    "        \n",
    "    pd[\"timestamps\"].append(data[\"timestamp\"])  \n",
    "    pd[\"values\"].append(data[\"values\"])  \n",
    "    pd[\"anomalies\"].append(data[\"anomalies\"])  \n",
    "    pd[\"_expires_ts\"].append(time.time())  \n",
    "        \n",
    "\n",
    "def expire_data(secs):\n",
    "    st = get_storage()\n",
    "    for pid, pd in st.items():\n",
    "        ts = time.time()\n",
    "        while len(pd[\"_expire_ts\"]) > 0 and pd[\"_expire_ts\"][0] < (ts-secs):\n",
    "            pd[\"timestamps\"].pop(0)\n",
    "            pd[\"values\"].pop(0)\n",
    "            pd[\"anomalies\"].pop(0)  \n",
    "            pd[\"_expires_ts\"].pop(0)"
   ]
  },
  {
   "cell_type": "code",
   "execution_count": 18,
   "id": "79041488",
   "metadata": {},
   "outputs": [
    {
     "ename": "SyntaxError",
     "evalue": "invalid syntax (<ipython-input-18-7cd7a68013d7>, line 41)",
     "output_type": "error",
     "traceback": [
      "\u001b[1;36m  File \u001b[1;32m\"<ipython-input-18-7cd7a68013d7>\"\u001b[1;36m, line \u001b[1;32m41\u001b[0m\n\u001b[1;33m    @app callback(Output('component_id'='the_plot',component_property='figure' ),\u001b[0m\n\u001b[1;37m                ^\u001b[0m\n\u001b[1;31mSyntaxError\u001b[0m\u001b[1;31m:\u001b[0m invalid syntax\n"
     ]
    }
   ],
   "source": [
    "### dash.App\n",
    "import dash\n",
    "import dash_core_components as dcc\n",
    "import dash_html_components as html\n",
    "import plotly.graph_objects as go \n",
    "from dash.dependencies import Input, Output\n",
    "import numpy as np\n",
    "from storage import get_storage\n",
    "\n",
    "\n",
    "def legs_plot():\n",
    "    #HARDCODE OF THE PATIENT 2\n",
    "    if \"2\" in get_storage:\n",
    "        pd = get_storage()[\"2\"]\n",
    "        times = np.array(pd[\"timestamps\"])\n",
    "        values = np.array(pd[\"values\"])\n",
    "    else:\n",
    "        times = np.array([0])\n",
    "        values = np.array([[0]])\n",
    "    \n",
    "    print(times)\n",
    "    print(values)\n",
    "    \n",
    "    fig = go.Figure([go.Scatter(x=times, y = values[:,0],\\\n",
    "                    line = dict(color = 'firebrick', width = 4), name = 'L0')\n",
    "                    ])\n",
    "    return fig\n",
    "\n",
    "app = dash.Dash()\n",
    "\n",
    "def create_layout():\n",
    "    \n",
    "    app.layout = html.Div(id='parent', children = [\n",
    "            html.H1(id = 'H1', children = 'Styling using html components', style = {'textAlign':'center',\\\n",
    "                                                                                   'marginTop':40, 'marginBottom':40}),\\\n",
    "                dcc.Graph(id = 'the_plot', figure = legs_plot()), \\\n",
    "                dcc.Interval(id='interval', interval=1000, n_intervals=0)\n",
    "                ])\n",
    "    \n",
    "    \n",
    "@app callback(Output('component_id'='the_plot',component_property='figure' ),\n",
    "                [Input('component_id'='interval',component_property='n_intervals' )])\n",
    "def graph_update(n_intervals):\n",
    "    \n",
    "    print(n_intervals)\n",
    "    return legs_plot()\n"
   ]
  },
  {
   "cell_type": "code",
   "execution_count": null,
   "id": "3e9d427d",
   "metadata": {},
   "outputs": [],
   "source": []
  },
  {
   "cell_type": "code",
   "execution_count": null,
   "id": "66dc3687",
   "metadata": {},
   "outputs": [],
   "source": []
  },
  {
   "cell_type": "code",
   "execution_count": null,
   "id": "99348d82",
   "metadata": {},
   "outputs": [],
   "source": []
  }
 ],
 "metadata": {
  "kernelspec": {
   "display_name": "Python 3",
   "language": "python",
   "name": "python3"
  },
  "language_info": {
   "codemirror_mode": {
    "name": "ipython",
    "version": 3
   },
   "file_extension": ".py",
   "mimetype": "text/x-python",
   "name": "python",
   "nbconvert_exporter": "python",
   "pygments_lexer": "ipython3",
   "version": "3.6.9"
  }
 },
 "nbformat": 4,
 "nbformat_minor": 5
}
